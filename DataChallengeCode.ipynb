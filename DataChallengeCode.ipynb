{
  "nbformat": 4,
  "nbformat_minor": 0,
  "metadata": {
    "colab": {
      "provenance": []
    },
    "kernelspec": {
      "name": "python3",
      "display_name": "Python 3"
    },
    "language_info": {
      "name": "python"
    }
  },
  "cells": [
    {
      "cell_type": "code",
      "source": [
        "import numpy as np\n",
        "import pandas as pd\n",
        "import random\n",
        "from sklearn.model_selection import train_test_split\n",
        "from xgboost import XGBClassifier\n",
        "from sklearn.metrics import mean_absolute_error\n",
        "from sklearn.tree import DecisionTreeClassifier\n",
        "import xgboost as xgb\n",
        "import dask\n",
        "import dask.dataframe as dd\n",
        "import dask.array as da\n",
        "import dask.distributed\n",
        "import numpy as np\n",
        "from sklearn.preprocessing import MinMaxScaler\n",
        "\n",
        "random.seed(20816609)"
      ],
      "metadata": {
        "id": "Mv2rXbNfwvF-"
      },
      "execution_count": null,
      "outputs": []
    },
    {
      "cell_type": "code",
      "source": [
        "data = np.load('Xy_train.npz')\n",
        "X_train = data['X']\n",
        "y_train = data['y']\n",
        "X_test = np.load('X_test.npz')\n",
        "X_test = X_test['X']"
      ],
      "metadata": {
        "id": "tl6SoANAwzLU"
      },
      "execution_count": null,
      "outputs": []
    },
    {
      "cell_type": "code",
      "source": [
        "X_train, X_validation, y_train, y_validation = train_test_split(X_train, y_train\n",
        "                                                                , test_size=0.3, random_state=42)"
      ],
      "metadata": {
        "id": "WrCdO6b8w2cr"
      },
      "execution_count": null,
      "outputs": []
    },
    {
      "cell_type": "code",
      "source": [
        "# Scale the data to (0, 1)\n",
        "min_value = min(y_train)\n",
        "max_value = max(y_train)\n",
        "y_train = (y_train - min_value) / (max_value - min_value)\n",
        "\n",
        "min_value = min(y_validation)\n",
        "max_value = max(y_validation)\n",
        "y_validation = (y_validation - min_value) / (max_value - min_value)"
      ],
      "metadata": {
        "id": "DO8r6Y6Ew4gv"
      },
      "execution_count": null,
      "outputs": []
    },
    {
      "cell_type": "code",
      "execution_count": null,
      "metadata": {
        "id": "cEE5nixmwuG1"
      },
      "outputs": [],
      "source": [
        "# create model instance\n",
        "model = xgb.XGBRegressor(\n",
        "    objective='reg:logistic',\n",
        "    eval_metric='rmse',\n",
        "    early_stopping_rounds=15,\n",
        "    n_estimators=2250,\n",
        "    learning_rate=0.15,\n",
        "    device='cuda',\n",
        "    tree_method='hist',\n",
        "    alpha=35,\n",
        "    reg_lambda=30\n",
        ")\n",
        "\n",
        "# Train the model\n",
        "model.fit(X_train, y_train,\n",
        "          eval_set=[(X_train, y_train), (X_validation, y_validation)])\n",
        "\n",
        "original_labels = np.array([0, 1, 2, 3, 4, 5, 6, 7])\n",
        "scaled_labels = np.unique(y_train)\n",
        "\n",
        "# Initialize MinMaxScaler\n",
        "scaler = MinMaxScaler()\n",
        "scaler.fit(original_labels.reshape(-1, 1))\n",
        "\n",
        "predictions_scaled = model.predict(X_test)\n",
        "predictions_original_scale = scaler.inverse_transform(predictions_scaled.reshape(-1, 1))\n",
        "predictions_original_scale = np.round(predictions_original_scale).astype(int)\n",
        "\n",
        "df = pd.DataFrame({\n",
        "    'ID': np.arange(0, 100000),\n",
        "    'Predicted': predictions_original_scale.ravel()\n",
        "})\n",
        "df.set_index('ID', inplace=True)\n",
        "df.to_csv('submission.csv')"
      ]
    }
  ]
}